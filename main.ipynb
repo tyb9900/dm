{
 "cells": [
  {
   "cell_type": "code",
   "execution_count": 41,
   "metadata": {},
   "outputs": [],
   "source": [
    "import sys\n",
    "import os\n",
    "import papermill as pm\n",
    "import scrapbook as sb\n",
    "import pandas as pd\n",
    "import numpy as np\n",
    "import tensorflow as tf\n",
    "tf.get_logger().setLevel('ERROR') # only show error messages"
   ]
  },
  {
   "cell_type": "code",
   "execution_count": 42,
   "metadata": {},
   "outputs": [],
   "source": [
    "from libs.timer import Timer\n",
    "from libs.lightgcn import LightGCN\n",
    "from libs.ImplicitCF import ImplicitCF\n",
    "from libs.python_splitters import python_stratified_split\n",
    "from libs.python_evaluation import map_at_k, ndcg_at_k, precision_at_k, recall_at_k\n",
    "from libs.constants import SEED as DEFAULT_SEED\n",
    "from libs.deeprec_utils import prepare_hparams"
   ]
  },
  {
   "cell_type": "code",
   "execution_count": 43,
   "metadata": {},
   "outputs": [
    {
     "name": "stdout",
     "output_type": "stream",
     "text": [
      "                                           hotel_url         author  \\\n",
      "0  Hotel_Review-g60978-d568121-Reviews-Belle_View...       Sammy2co   \n",
      "1  Hotel_Review-g60978-d568121-Reviews-Belle_View...  Itravel_1983I   \n",
      "2  Hotel_Review-g60978-d568121-Reviews-Belle_View...     happy02117   \n",
      "3  Hotel_Review-g60978-d568121-Reviews-Belle_View...        neruals   \n",
      "4  Hotel_Review-g60978-d568121-Reviews-Belle_View...         fitztp   \n",
      "\n",
      "        date  rating  \n",
      "0 2010-07-01       5  \n",
      "1 2010-06-01       5  \n",
      "2 2010-06-01       4  \n",
      "3 2010-05-01       4  \n",
      "4 2010-05-01       5  \n"
     ]
    }
   ],
   "source": [
    "yaml_file = \"../libs/lightgcn.yaml\"\n",
    "\n",
    "\n",
    "df = pd.read_json('dataset100k.json')\n",
    "\n",
    "df = df.drop(columns=['title','text','property_dict'])\n",
    "\n",
    "print(df.head())"
   ]
  },
  {
   "cell_type": "code",
   "execution_count": 44,
   "metadata": {},
   "outputs": [
    {
     "name": "stderr",
     "output_type": "stream",
     "text": [
      "/Users/tyb9900/Desktop/DM/libs/ImplicitCF.py:73: FutureWarning: The frame.append method is deprecated and will be removed from pandas in a future version. Use pandas.concat instead.\n",
      "  df = train if test is None else train.append(test)\n"
     ]
    },
    {
     "name": "stdout",
     "output_type": "stream",
     "text": [
      "<libs.ImplicitCF.ImplicitCF object at 0x1d37939d0>\n"
     ]
    }
   ],
   "source": [
    "train, test = python_stratified_split(df, ratio=0.75)\n",
    "data = ImplicitCF(train=train, test=test, seed=DEFAULT_SEED)\n",
    "\n",
    "print(data)"
   ]
  },
  {
   "cell_type": "code",
   "execution_count": 45,
   "metadata": {},
   "outputs": [],
   "source": [
    "# top k items to recommend\n",
    "TOP_K = 10\n",
    "\n",
    "# Select MovieLens data size: 100k, 1m, 10m, or 20m\n",
    "MOVIELENS_DATA_SIZE = '100k'\n",
    "\n",
    "# Model parameters\n",
    "EPOCHS = 50\n",
    "BATCH_SIZE = 1024\n",
    "\n",
    "yaml_file = \"./libs/lightgcn.yaml\"\n",
    "\n",
    "hparams = prepare_hparams(yaml_file,\n",
    "                          n_layers=3,\n",
    "                          batch_size=BATCH_SIZE,\n",
    "                          epochs=EPOCHS,\n",
    "                          learning_rate=0.005,\n",
    "                          eval_epoch=5,\n",
    "                          top_k=TOP_K,\n",
    "                         )"
   ]
  },
  {
   "cell_type": "code",
   "execution_count": 46,
   "metadata": {},
   "outputs": [
    {
     "name": "stdout",
     "output_type": "stream",
     "text": [
      "Already create adjacency matrix.\n",
      "Already normalize adjacency matrix.\n",
      "Using xavier initialization.\n"
     ]
    }
   ],
   "source": [
    "SEED = DEFAULT_SEED  # Set None for non-deterministic results\n",
    "\n",
    "model = LightGCN(hparams, data, seed=SEED)"
   ]
  },
  {
   "cell_type": "code",
   "execution_count": 47,
   "metadata": {},
   "outputs": [
    {
     "name": "stdout",
     "output_type": "stream",
     "text": [
      "Epoch 1 (train)37.1s: train loss = 0.19702 = (mf)0.19678 + (embed)0.00024\n",
      "Epoch 2 (train)37.1s: train loss = 0.00964 = (mf)0.00917 + (embed)0.00047\n",
      "Epoch 3 (train)35.1s: train loss = 0.00444 = (mf)0.00391 + (embed)0.00053\n",
      "Epoch 4 (train)35.9s: train loss = 0.00277 = (mf)0.00221 + (embed)0.00056\n",
      "Epoch 5 (train)34.8s + (eval)0.7s: train loss = 0.00195 = (mf)0.00137 + (embed)0.00058, recall = 0.00559, ndcg = 0.00379, precision = 0.00056, map = 0.00326\n",
      "Epoch 6 (train)34.3s: train loss = 0.00158 = (mf)0.00099 + (embed)0.00059\n",
      "Epoch 7 (train)34.6s: train loss = 0.00136 = (mf)0.00076 + (embed)0.00059\n",
      "Epoch 8 (train)34.7s: train loss = 0.00118 = (mf)0.00059 + (embed)0.00059\n",
      "Epoch 9 (train)34.4s: train loss = 0.00108 = (mf)0.00050 + (embed)0.00058\n",
      "Epoch 10 (train)34.4s + (eval)0.3s: train loss = 0.00097 = (mf)0.00040 + (embed)0.00057, recall = 0.00559, ndcg = 0.00379, precision = 0.00056, map = 0.00326\n",
      "Epoch 11 (train)34.6s: train loss = 0.00090 = (mf)0.00035 + (embed)0.00056\n",
      "Epoch 12 (train)34.0s: train loss = 0.00087 = (mf)0.00032 + (embed)0.00054\n",
      "Epoch 13 (train)35.4s: train loss = 0.00080 = (mf)0.00027 + (embed)0.00053\n",
      "Epoch 14 (train)34.3s: train loss = 0.00074 = (mf)0.00023 + (embed)0.00051\n",
      "Epoch 15 (train)33.9s + (eval)0.3s: train loss = 0.00071 = (mf)0.00021 + (embed)0.00049, recall = 0.00559, ndcg = 0.00276, precision = 0.00056, map = 0.00186\n",
      "Epoch 16 (train)34.8s: train loss = 0.00070 = (mf)0.00022 + (embed)0.00048\n",
      "Epoch 17 (train)33.8s: train loss = 0.00063 = (mf)0.00017 + (embed)0.00046\n",
      "Epoch 18 (train)33.9s: train loss = 0.00063 = (mf)0.00018 + (embed)0.00045\n",
      "Epoch 19 (train)33.9s: train loss = 0.00059 = (mf)0.00015 + (embed)0.00043\n",
      "Epoch 20 (train)33.7s + (eval)0.3s: train loss = 0.00057 = (mf)0.00015 + (embed)0.00042, recall = 0.00559, ndcg = 0.00379, precision = 0.00056, map = 0.00326\n",
      "Epoch 21 (train)34.6s: train loss = 0.00054 = (mf)0.00013 + (embed)0.00040\n",
      "Epoch 22 (train)35.6s: train loss = 0.00052 = (mf)0.00013 + (embed)0.00039\n",
      "Epoch 23 (train)34.1s: train loss = 0.00049 = (mf)0.00011 + (embed)0.00038\n",
      "Epoch 24 (train)34.3s: train loss = 0.00048 = (mf)0.00011 + (embed)0.00037\n",
      "Epoch 25 (train)34.2s + (eval)0.3s: train loss = 0.00046 = (mf)0.00010 + (embed)0.00036, recall = 0.00559, ndcg = 0.00297, precision = 0.00056, map = 0.00209\n",
      "Epoch 26 (train)36.8s: train loss = 0.00044 = (mf)0.00009 + (embed)0.00035\n",
      "Epoch 27 (train)37.5s: train loss = 0.00043 = (mf)0.00009 + (embed)0.00034\n",
      "Epoch 28 (train)34.0s: train loss = 0.00042 = (mf)0.00008 + (embed)0.00033\n",
      "Epoch 29 (train)34.1s: train loss = 0.00043 = (mf)0.00010 + (embed)0.00033\n",
      "Epoch 30 (train)34.1s + (eval)0.3s: train loss = 0.00041 = (mf)0.00009 + (embed)0.00032, recall = 0.00559, ndcg = 0.00400, precision = 0.00056, map = 0.00349\n",
      "Epoch 31 (train)31.2s: train loss = 0.00039 = (mf)0.00008 + (embed)0.00032\n",
      "Epoch 32 (train)30.1s: train loss = 0.00039 = (mf)0.00008 + (embed)0.00031\n",
      "Epoch 33 (train)30.1s: train loss = 0.00037 = (mf)0.00007 + (embed)0.00031\n",
      "Epoch 34 (train)30.2s: train loss = 0.00037 = (mf)0.00007 + (embed)0.00030\n",
      "Epoch 35 (train)30.6s + (eval)0.3s: train loss = 0.00036 = (mf)0.00006 + (embed)0.00030, recall = 0.00559, ndcg = 0.00297, precision = 0.00056, map = 0.00209\n",
      "Epoch 36 (train)30.4s: train loss = 0.00035 = (mf)0.00006 + (embed)0.00029\n",
      "Epoch 37 (train)30.4s: train loss = 0.00035 = (mf)0.00006 + (embed)0.00029\n",
      "Epoch 38 (train)30.5s: train loss = 0.00035 = (mf)0.00006 + (embed)0.00029\n",
      "Epoch 39 (train)30.2s: train loss = 0.00034 = (mf)0.00005 + (embed)0.00028\n",
      "Epoch 40 (train)30.2s + (eval)0.2s: train loss = 0.00035 = (mf)0.00007 + (embed)0.00028, recall = 0.00559, ndcg = 0.00297, precision = 0.00056, map = 0.00209\n",
      "Epoch 41 (train)30.1s: train loss = 0.00042 = (mf)0.00014 + (embed)0.00028\n",
      "Epoch 42 (train)29.8s: train loss = 0.00033 = (mf)0.00005 + (embed)0.00028\n",
      "Epoch 43 (train)29.7s: train loss = 0.00033 = (mf)0.00005 + (embed)0.00028\n",
      "Epoch 44 (train)29.6s: train loss = 0.00032 = (mf)0.00005 + (embed)0.00027\n",
      "Epoch 45 (train)29.6s + (eval)0.3s: train loss = 0.00032 = (mf)0.00004 + (embed)0.00027, recall = 0.00559, ndcg = 0.00264, precision = 0.00056, map = 0.00175\n",
      "Epoch 46 (train)29.8s: train loss = 0.00031 = (mf)0.00004 + (embed)0.00027\n",
      "Epoch 47 (train)29.8s: train loss = 0.00031 = (mf)0.00004 + (embed)0.00027\n",
      "Epoch 48 (train)30.0s: train loss = 0.00033 = (mf)0.00006 + (embed)0.00027\n",
      "Epoch 49 (train)29.9s: train loss = 0.00031 = (mf)0.00004 + (embed)0.00026\n",
      "Epoch 50 (train)29.9s + (eval)0.2s: train loss = 0.00030 = (mf)0.00004 + (embed)0.00026, recall = 0.00559, ndcg = 0.00372, precision = 0.00056, map = 0.00319\n",
      "Took 1649.262690933001 seconds for training.\n"
     ]
    }
   ],
   "source": [
    "with Timer() as train_time:\n",
    "    model.fit()\n",
    "\n",
    "print(\"Took {} seconds for training.\".format(train_time.interval))"
   ]
  },
  {
   "cell_type": "code",
   "execution_count": 48,
   "metadata": {},
   "outputs": [
    {
     "data": {
      "text/html": [
       "<div>\n",
       "<style scoped>\n",
       "    .dataframe tbody tr th:only-of-type {\n",
       "        vertical-align: middle;\n",
       "    }\n",
       "\n",
       "    .dataframe tbody tr th {\n",
       "        vertical-align: top;\n",
       "    }\n",
       "\n",
       "    .dataframe thead th {\n",
       "        text-align: right;\n",
       "    }\n",
       "</style>\n",
       "<table border=\"1\" class=\"dataframe\">\n",
       "  <thead>\n",
       "    <tr style=\"text-align: right;\">\n",
       "      <th></th>\n",
       "      <th>author</th>\n",
       "      <th>hotel_url</th>\n",
       "      <th>prediction</th>\n",
       "    </tr>\n",
       "  </thead>\n",
       "  <tbody>\n",
       "    <tr>\n",
       "      <th>3575</th>\n",
       "      <td>yungkara</td>\n",
       "      <td>Hotel_Review-g319807-d1442948-Reviews-Cherry_H...</td>\n",
       "      <td>6.119183</td>\n",
       "    </tr>\n",
       "    <tr>\n",
       "      <th>3576</th>\n",
       "      <td>yungkara</td>\n",
       "      <td>Hotel_Review-g55287-d10632707-Reviews-Hampton_...</td>\n",
       "      <td>5.794817</td>\n",
       "    </tr>\n",
       "    <tr>\n",
       "      <th>3577</th>\n",
       "      <td>yungkara</td>\n",
       "      <td>Hotel_Review-g662620-d1223003-Reviews-Sahas_St...</td>\n",
       "      <td>5.685108</td>\n",
       "    </tr>\n",
       "    <tr>\n",
       "      <th>3578</th>\n",
       "      <td>yungkara</td>\n",
       "      <td>Hotel_Review-g635614-d2149964-Reviews-Villa_Di...</td>\n",
       "      <td>5.683023</td>\n",
       "    </tr>\n",
       "    <tr>\n",
       "      <th>3579</th>\n",
       "      <td>yungkara</td>\n",
       "      <td>Hotel_Review-g1390118-d2440868-Reviews-Shwe_Th...</td>\n",
       "      <td>5.603535</td>\n",
       "    </tr>\n",
       "  </tbody>\n",
       "</table>\n",
       "</div>"
      ],
      "text/plain": [
       "        author                                          hotel_url  prediction\n",
       "3575  yungkara  Hotel_Review-g319807-d1442948-Reviews-Cherry_H...    6.119183\n",
       "3576  yungkara  Hotel_Review-g55287-d10632707-Reviews-Hampton_...    5.794817\n",
       "3577  yungkara  Hotel_Review-g662620-d1223003-Reviews-Sahas_St...    5.685108\n",
       "3578  yungkara  Hotel_Review-g635614-d2149964-Reviews-Villa_Di...    5.683023\n",
       "3579  yungkara  Hotel_Review-g1390118-d2440868-Reviews-Shwe_Th...    5.603535"
      ]
     },
     "execution_count": 48,
     "metadata": {},
     "output_type": "execute_result"
    }
   ],
   "source": [
    "topk_scores = model.recommend_k_items(test, top_k=TOP_K, remove_seen=True)\n",
    "\n",
    "topk_scores.tail()"
   ]
  },
  {
   "cell_type": "code",
   "execution_count": 49,
   "metadata": {},
   "outputs": [
    {
     "name": "stdout",
     "output_type": "stream",
     "text": [
      "MAP:\t0.003192\n",
      "NDCG:\t0.003724\n",
      "Precision@K:\t0.000559\n",
      "Recall@K:\t0.005587\n"
     ]
    }
   ],
   "source": [
    "eval_map = map_at_k(test, topk_scores, k=TOP_K)\n",
    "eval_ndcg = ndcg_at_k(test, topk_scores, k=TOP_K)\n",
    "eval_precision = precision_at_k(test, topk_scores, k=TOP_K)\n",
    "eval_recall = recall_at_k(test, topk_scores, k=TOP_K)\n",
    "\n",
    "print(\"MAP:\\t%f\" % eval_map,\n",
    "      \"NDCG:\\t%f\" % eval_ndcg,\n",
    "      \"Precision@K:\\t%f\" % eval_precision,\n",
    "      \"Recall@K:\\t%f\" % eval_recall, sep='\\n')"
   ]
  }
 ],
 "metadata": {
  "interpreter": {
   "hash": "1014e74e693af030d4f8160fe7cc29419a69bf563eca64d7b64c0936ad42b730"
  },
  "kernelspec": {
   "display_name": "Python 3.8.9 ('.venv': venv)",
   "language": "python",
   "name": "python3"
  },
  "language_info": {
   "codemirror_mode": {
    "name": "ipython",
    "version": 3
   },
   "file_extension": ".py",
   "mimetype": "text/x-python",
   "name": "python",
   "nbconvert_exporter": "python",
   "pygments_lexer": "ipython3",
   "version": "3.8.9"
  },
  "orig_nbformat": 4
 },
 "nbformat": 4,
 "nbformat_minor": 2
}
